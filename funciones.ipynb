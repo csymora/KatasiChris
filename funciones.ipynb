{
 "cells": [
  {
   "cell_type": "markdown",
   "metadata": {},
   "source": [
    "# Funciones"
   ]
  },
  {
   "cell_type": "code",
   "execution_count": 25,
   "metadata": {},
   "outputs": [
    {
     "name": "stdout",
     "output_type": "stream",
     "text": [
      "Reporte de estado :\n",
      "    Combustible total: 75.0%\n",
      "    Tanque principal: 50%\n",
      "    Tanque secundario: 80%\n",
      "    Tanque reserva: 95%\n",
      "\n",
      "    \n"
     ]
    }
   ],
   "source": [
    "def  combustible(combustible_tanque1l,tanque2,combustible_tanque_reserva):\n",
    "    return f\"\"\"Reporte de estado :\n",
    "    Combustible total: {calculo_com([combustible_tanque1l, combustible_tanque_reserva, tanque2])}%\n",
    "    Tanque principal: {combustible_tanque1l}%\n",
    "    Tanque secundario: {tanque2}%\n",
    "    Tanque reserva: {combustible_tanque_reserva}%\n",
    "\n",
    "    \"\"\"\n",
    "\n",
    "\n",
    "def calculo_com(valores):\n",
    "    com_total = sum(valores)\n",
    "    num_tanques = len(valores)\n",
    "\n",
    "    return(com_total/num_tanques)\n",
    "\n",
    "\n",
    "print(combustible(50,80,95))\n",
    "\n",
    "\n",
    "    "
   ]
  },
  {
   "cell_type": "code",
   "execution_count": 29,
   "metadata": {},
   "outputs": [
    {
     "name": "stdout",
     "output_type": "stream",
     "text": [
      "\n",
      "    Mision a Marte\n",
      "    Tiempo de viaje: 2000022 min\n",
      "    Tanque izquierod: 500000 L\n",
      "    \n",
      "\n",
      "    Mision a Marte\n",
      "    Total travel time: 350 minutes\n",
      "    Combustible total izquierdo: 500000\n",
      "    \n"
     ]
    }
   ],
   "source": [
    "#Ejercicio 2\n",
    "\n",
    "def  report(pre_lanzamiento,tiempo_vuelo,destino,tanque_principal,tanque2):\n",
    "    return f\"\"\"\n",
    "    Mision a {destino}\n",
    "    Tiempo de viaje: {pre_lanzamiento + tiempo_vuelo} min\n",
    "    Tanque izquierod: {tanque_principal + tanque2} L\n",
    "    \"\"\"\n",
    "\n",
    "\n",
    "\n",
    "\n",
    "print(report(22, 2000000, \"Marte\", 200000, 300000))\n",
    "\n",
    "\n",
    "\n",
    "\n",
    "def report1(destino, *minutos, **combustible_total):\n",
    "    return f\"\"\"\n",
    "    Mision a {destino}\n",
    "    Total travel time: {sum(minutos)} minutes\n",
    "    Combustible total izquierdo: {sum(combustible_total.values())}\n",
    "    \"\"\"\n",
    "\n",
    "print(report1(\"Marte\",80, 200, 70, main=300000, tanque2=200000))"
   ]
  }
 ],
 "metadata": {
  "interpreter": {
   "hash": "1ab67102a8acd81f5d8b41ac0c82d4019d64255629f7bbe81f84aa6c215e6b73"
  },
  "kernelspec": {
   "display_name": "Python 3.10.2 64-bit",
   "language": "python",
   "name": "python3"
  },
  "language_info": {
   "codemirror_mode": {
    "name": "ipython",
    "version": 3
   },
   "file_extension": ".py",
   "mimetype": "text/x-python",
   "name": "python",
   "nbconvert_exporter": "python",
   "pygments_lexer": "ipython3",
   "version": "3.10.2"
  },
  "orig_nbformat": 4
 },
 "nbformat": 4,
 "nbformat_minor": 2
}
