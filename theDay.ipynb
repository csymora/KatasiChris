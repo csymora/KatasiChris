{
 "cells": [
  {
   "cell_type": "markdown",
   "metadata": {},
   "source": [
    "# La fecha del dia"
   ]
  },
  {
   "cell_type": "code",
   "execution_count": 1,
   "metadata": {},
   "outputs": [
    {
     "name": "stdout",
     "output_type": "stream",
     "text": [
      "La fecha de hoy es: 2022-02-11\n"
     ]
    }
   ],
   "source": [
    "from datetime import date\n",
    "\n",
    "date.today()\n",
    "\n",
    "print(\"La fecha de hoy es: \" + str(date.today()))"
   ]
  },
  {
   "cell_type": "markdown",
   "metadata": {},
   "source": [
    "# Convertidor de datos"
   ]
  },
  {
   "cell_type": "code",
   "execution_count": 7,
   "metadata": {},
   "outputs": [
    {
     "name": "stdout",
     "output_type": "stream",
     "text": [
      "parsec: 11\n",
      "lightyears: 35.877159999999996\n"
     ]
    }
   ],
   "source": [
    "parsec = 11\n",
    "\n",
    "lightyears =  3.26156 * parsec\n",
    "\n",
    "print(\"parsec: \"+ str(parsec) + \"\\nlightyears: \"+str(lightyears))"
   ]
  }
 ],
 "metadata": {
  "interpreter": {
   "hash": "1ab67102a8acd81f5d8b41ac0c82d4019d64255629f7bbe81f84aa6c215e6b73"
  },
  "kernelspec": {
   "display_name": "Python 3.10.2 64-bit",
   "language": "python",
   "name": "python3"
  },
  "language_info": {
   "codemirror_mode": {
    "name": "ipython",
    "version": 3
   },
   "file_extension": ".py",
   "mimetype": "text/x-python",
   "name": "python",
   "nbconvert_exporter": "python",
   "pygments_lexer": "ipython3",
   "version": "3.10.2"
  },
  "orig_nbformat": 4
 },
 "nbformat": 4,
 "nbformat_minor": 2
}
