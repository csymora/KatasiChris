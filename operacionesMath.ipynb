{
 "cells": [
  {
   "cell_type": "markdown",
   "metadata": {},
   "source": [
    "# Operaciones matematicas #5"
   ]
  },
  {
   "cell_type": "code",
   "execution_count": 10,
   "metadata": {},
   "outputs": [
    {
     "name": "stdout",
     "output_type": "stream",
     "text": [
      "Distancia entre los dos planetas: 628949330 km\n",
      "Distancia entre los dos planetas: 390577533.93 ml\n"
     ]
    }
   ],
   "source": [
    "#Ejercicio 1\n",
    "\n",
    "tierra = 149597870\n",
    "jupiter = 778547200\n",
    "distancia = tierra - jupiter\n",
    "\n",
    "\n",
    "print(\"Distancia entre los dos planetas: \"+ (str(abs(distancia)))+\" km\")\n",
    "print(\"Distancia entre los dos planetas: \"+ (str(abs(distancia * 0.621)))+\" ml\")\n"
   ]
  },
  {
   "cell_type": "code",
   "execution_count": 12,
   "metadata": {},
   "outputs": [
    {
     "name": "stdout",
     "output_type": "stream",
     "text": [
      "La distancia entre ambos planetas es: 990.0\n"
     ]
    }
   ],
   "source": [
    "#Ejercicio 2\n",
    "\n",
    "\n",
    "planeta1 = input(\"Ingresa la distancia a la que esta el sol de tu planeta: \")\n",
    "planeta2 = input(\"Ingresa la distancia a la que esta el sol de tu planeta: \")\n",
    "distanciaDif = int(planeta1) - int(planeta2)\n",
    "\n",
    "print(\"La distancia entre ambos planetas es: \"+ (str(abs(distanciaDif)))+\" km\")\n",
    "print(\"La distancia entre ambos planetas es: \"+ (str(abs(distanciaDif*0.621)))\" ml\")\n"
   ]
  }
 ],
 "metadata": {
  "interpreter": {
   "hash": "1ab67102a8acd81f5d8b41ac0c82d4019d64255629f7bbe81f84aa6c215e6b73"
  },
  "kernelspec": {
   "display_name": "Python 3.10.2 64-bit",
   "language": "python",
   "name": "python3"
  },
  "language_info": {
   "codemirror_mode": {
    "name": "ipython",
    "version": 3
   },
   "file_extension": ".py",
   "mimetype": "text/x-python",
   "name": "python",
   "nbconvert_exporter": "python",
   "pygments_lexer": "ipython3",
   "version": "3.10.2"
  },
  "orig_nbformat": 4
 },
 "nbformat": 4,
 "nbformat_minor": 2
}
