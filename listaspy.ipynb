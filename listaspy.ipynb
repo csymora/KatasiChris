{
 "cells": [
  {
   "cell_type": "markdown",
   "metadata": {},
   "source": [
    "# Listas #6"
   ]
  },
  {
   "cell_type": "code",
   "execution_count": 4,
   "metadata": {},
   "outputs": [
    {
     "name": "stdout",
     "output_type": "stream",
     "text": [
      "['Mercurio', 'Venus', 'Tierra', 'Marte', 'Jupiter', 'Saturno', 'Urano', 'Neptuno']\n",
      "8\n",
      "Pluton\n"
     ]
    }
   ],
   "source": [
    "planets = ['Mercurio', 'Venus', 'Tierra','Marte','Jupiter','Saturno','Urano','Neptuno']\n",
    "\n",
    "print(planets)\n",
    "print(len(planets))\n",
    "\n",
    "planets.append('Pluton')\n",
    "print(planets[-1])"
   ]
  },
  {
   "cell_type": "code",
   "execution_count": 11,
   "metadata": {},
   "outputs": [
    {
     "name": "stdout",
     "output_type": "stream",
     "text": [
      "Planetas más cercanos al sol:  ['Mercurio']\n",
      "Planetas más lejanos al sol:  ['Venus', 'Tierra', 'Marte', 'Jupiter', 'Saturno', 'Urano', 'Neptuno']\n"
     ]
    }
   ],
   "source": [
    "#Ejercicio 2\n",
    "\n",
    "planets = ['Mercurio', 'Venus', 'Tierra','Marte','Jupiter','Saturno','Urano','Neptuno']\n",
    "nwplanet = input(\"Ingrese nombre del planeta (La primera letra con mayuscula)\")\n",
    "indexpl = planets.index(nwplanet)\n",
    "closerPl = planets[0:indexpl]\n",
    "farthestPL =planets[indexpl:9] \n",
    "\n",
    "\n",
    "print(\"Planetas más cercanos al sol: \",closerPl)\n",
    "print(\"Planetas más lejanos al sol: \",farthestPL)"
   ]
  }
 ],
 "metadata": {
  "interpreter": {
   "hash": "1ab67102a8acd81f5d8b41ac0c82d4019d64255629f7bbe81f84aa6c215e6b73"
  },
  "kernelspec": {
   "display_name": "Python 3.10.2 64-bit",
   "language": "python",
   "name": "python3"
  },
  "language_info": {
   "codemirror_mode": {
    "name": "ipython",
    "version": 3
   },
   "file_extension": ".py",
   "mimetype": "text/x-python",
   "name": "python",
   "nbconvert_exporter": "python",
   "pygments_lexer": "ipython3",
   "version": "3.10.2"
  },
  "orig_nbformat": 4
 },
 "nbformat": 4,
 "nbformat_minor": 2
}
