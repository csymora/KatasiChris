{
 "cells": [
  {
   "cell_type": "markdown",
   "metadata": {},
   "source": [
    "# Diccionarios en python #8"
   ]
  },
  {
   "cell_type": "code",
   "execution_count": 19,
   "metadata": {},
   "outputs": [
    {
     "name": "stdout",
     "output_type": "stream",
     "text": [
      "Mars \n",
      "circunferencia polar:  6752\n"
     ]
    }
   ],
   "source": [
    "planet = {\n",
    "    \"name\" : \"Mars\",\n",
    "    \"moons\" : 2\n",
    "}\n",
    "planet.get(\"name\")\n",
    "\n",
    "planet[\"polar\"] = 6752\n",
    "planet[\"equatorial\"] = 6792\n",
    "\n",
    "print(planet.get(\"name\"),\"\\ncircunferencia polar: \",planet.get(\"polar\"))\n",
    "\n"
   ]
  },
  {
   "cell_type": "code",
   "execution_count": 23,
   "metadata": {},
   "outputs": [
    {
     "name": "stdout",
     "output_type": "stream",
     "text": [
      "numero total de lunas:  214\n",
      "17.833333333333332\n"
     ]
    }
   ],
   "source": [
    "#Ejercicio 2\n",
    "\n",
    "\n",
    "planet_moons = {\n",
    "    'mercury': 0,\n",
    "    'venus': 0,\n",
    "    'earth': 1,\n",
    "    'mars': 2,\n",
    "    'jupiter': 79,\n",
    "    'saturn': 82,\n",
    "    'uranus': 27,\n",
    "    'neptune': 14,\n",
    "    'pluto': 5,\n",
    "    'haumea': 2,\n",
    "    'makemake': 1,\n",
    "    'eris': 1\n",
    "}\n",
    "\n",
    "moons = 0\n",
    "\n",
    "\n",
    "\n",
    "\n",
    "for lunas in planet_moons.values():\n",
    "    moons = moons + lunas\n",
    "print(\"numero total de lunas: \",moons)    \n",
    "\n",
    "\n",
    "planets = len(planet_moons.keys())\n",
    "\n",
    "promedio = moons / planets\n",
    "\n",
    "print(promedio)\n"
   ]
  }
 ],
 "metadata": {
  "interpreter": {
   "hash": "1ab67102a8acd81f5d8b41ac0c82d4019d64255629f7bbe81f84aa6c215e6b73"
  },
  "kernelspec": {
   "display_name": "Python 3.10.2 64-bit",
   "language": "python",
   "name": "python3"
  },
  "language_info": {
   "codemirror_mode": {
    "name": "ipython",
    "version": 3
   },
   "file_extension": ".py",
   "mimetype": "text/x-python",
   "name": "python",
   "nbconvert_exporter": "python",
   "pygments_lexer": "ipython3",
   "version": "3.10.2"
  },
  "orig_nbformat": 4
 },
 "nbformat": 4,
 "nbformat_minor": 2
}
