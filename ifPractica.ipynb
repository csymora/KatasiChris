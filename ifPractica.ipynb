{
 "cells": [
  {
   "cell_type": "markdown",
   "metadata": {},
   "source": [
    "# Practica Condicionales\n"
   ]
  },
  {
   "cell_type": "code",
   "execution_count": 22,
   "metadata": {},
   "outputs": [
    {
     "name": "stdout",
     "output_type": "stream",
     "text": [
      "Impacto inminente D: \n"
     ]
    }
   ],
   "source": [
    "#Ejercicio 1\n",
    "velocidad_asteroide = 49\n",
    "\n",
    "if velocidad_asteroide < 25 :\n",
    "    print(\"La tierra esta segura :D \")\n",
    "else:\n",
    "    print(\"Impacto inminente D: \")\n",
    "       \n"
   ]
  },
  {
   "cell_type": "code",
   "execution_count": 20,
   "metadata": {},
   "outputs": [
    {
     "name": "stdout",
     "output_type": "stream",
     "text": [
      "El asteroide no se puede ver\n"
     ]
    }
   ],
   "source": [
    "#Ejercicio 2\n",
    "\n",
    "velocidad = 19\n",
    "\n",
    "if velocidad >=20:\n",
    "    print(\"Asteroide en el cielo :O \")\n",
    "elif velocidad<20:\n",
    "    print(\"El asteroide no se puede ver\")\n",
    "else:\n",
    "    print(\"No hay ningun asteroide\")\n"
   ]
  },
  {
   "cell_type": "code",
   "execution_count": 26,
   "metadata": {},
   "outputs": [
    {
     "name": "stdout",
     "output_type": "stream",
     "text": [
      "El asteroide causara un gran daño\n"
     ]
    }
   ],
   "source": [
    "#Ejercicio 3\n",
    "\n",
    "velocidadAsteroide = 25\n",
    "dimensionAsteroide = 200\n",
    "\n",
    "if velocidadAsteroide >25:\n",
    "    print(\"Asteroide entrara a la atmosfera \")\n",
    "    if velocidadAsteroide >= 20:\n",
    "            print(\"El asteroide se puede ver en el clielo\")\n",
    "    else:\n",
    "            print(\"El asteroide no es visible\")\n",
    "elif dimensionAsteroide < 25:\n",
    "    print(\"El asteroide se quemara al entrar en la atmosfera\")\n",
    "elif dimensionAsteroide >25 and dimensionAsteroide <1000:\n",
    "    print(\"El asteroide causara un gran daño\")\n",
    "else:\n",
    "    print(\"No hay ningun asteroide\")"
   ]
  }
 ],
 "metadata": {
  "interpreter": {
   "hash": "1ab67102a8acd81f5d8b41ac0c82d4019d64255629f7bbe81f84aa6c215e6b73"
  },
  "kernelspec": {
   "display_name": "Python 3.10.2 64-bit",
   "language": "python",
   "name": "python3"
  },
  "language_info": {
   "codemirror_mode": {
    "name": "ipython",
    "version": 3
   },
   "file_extension": ".py",
   "mimetype": "text/x-python",
   "name": "python",
   "nbconvert_exporter": "python",
   "pygments_lexer": "ipython3",
   "version": "3.10.2"
  },
  "orig_nbformat": 4
 },
 "nbformat": 4,
 "nbformat_minor": 2
}
